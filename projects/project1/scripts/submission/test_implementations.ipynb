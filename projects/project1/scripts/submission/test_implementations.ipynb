{
 "cells": [
  {
   "cell_type": "markdown",
   "metadata": {},
   "source": [
    "# We will test in this file the implementations functions in implementations.py file"
   ]
  },
  {
   "cell_type": "markdown",
   "metadata": {},
   "source": [
    "## First test the ridge regression"
   ]
  },
  {
   "cell_type": "code",
   "execution_count": null,
   "metadata": {},
   "outputs": [],
   "source": [
    "import numpy as np\n",
    "from implementations import ridge_regression\n",
    "\n",
    "test_w, error = ridge_regression(\n",
    "    y = np.array([[10, 11, 12, 13, 16, 18, 19]]).T,\n",
    "    tx = np.array([[  1.,   0.,   0.,   0.],\n",
    "                  [  1.,   1.,   1.,   1.],\n",
    "                  [  1.,   2.,   4.,   8.],\n",
    "                  [  1.,   3.,   9.,  27.],\n",
    "                  [  1.,   6.,  36., 216.],\n",
    "                  [  1.,   8.,  64., 512.],\n",
    "                  [  1.,   9.,  81., 729.]]),  \n",
    "    lambda_ = 0.01\n",
    ")\n",
    "print(\"Ridge w =\\n\", test_w, '\\n', \"error=\", error)"
   ]
  },
  {
   "cell_type": "code",
   "execution_count": null,
   "metadata": {},
   "outputs": [],
   "source": []
  }
 ],
 "metadata": {
  "kernelspec": {
   "display_name": "Python 3",
   "language": "python",
   "name": "python3"
  },
  "language_info": {
   "codemirror_mode": {
    "name": "ipython",
    "version": 3
   },
   "file_extension": ".py",
   "mimetype": "text/x-python",
   "name": "python",
   "nbconvert_exporter": "python",
   "pygments_lexer": "ipython3",
   "version": "3.8.5"
  }
 },
 "nbformat": 4,
 "nbformat_minor": 4
}
