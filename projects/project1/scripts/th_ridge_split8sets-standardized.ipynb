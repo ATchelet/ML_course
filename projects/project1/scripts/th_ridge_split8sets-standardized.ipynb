{
 "cells": [
  {
   "cell_type": "markdown",
   "metadata": {},
   "source": [
    "# Using the 8 split datasets based on mass and jet number presence, we try ridge regression to predict outputs"
   ]
  },
  {
   "cell_type": "markdown",
   "metadata": {},
   "source": [
    "## Dupplicate code from the dataset splitting\n",
    "\n",
    "We have dupplicated it so as not to have git conflicts, but it should be the same with project1 - Alon.ipynb"
   ]
  },
  {
   "cell_type": "code",
   "execution_count": 1,
   "metadata": {},
   "outputs": [],
   "source": [
    "# Useful starting lines\n",
    "%matplotlib inline\n",
    "import numpy as np\n",
    "import matplotlib.pyplot as plt\n",
    "from implementations import *\n",
    "%load_ext autoreload\n",
    "%autoreload 2"
   ]
  },
  {
   "cell_type": "code",
   "execution_count": 2,
   "metadata": {},
   "outputs": [],
   "source": [
    "from proj1_helpers import *\n",
    "DATA_TRAIN_PATH = '../data/train.csv' \n",
    "y, tX, ids = load_csv_data(DATA_TRAIN_PATH)"
   ]
  },
  {
   "cell_type": "code",
   "execution_count": 20,
   "metadata": {},
   "outputs": [],
   "source": [
    "def standardize(tx):\n",
    "    mean = np.mean(tx, axis=0)\n",
    "    std = np.std(tx, axis=0)\n",
    "    std[std==0] = 1 #if std = 0 it's actually ok to fix divide by 0 error\n",
    "    tx = (tx-mean)/std\n",
    "    return tx"
   ]
  },
  {
   "cell_type": "code",
   "execution_count": 21,
   "metadata": {},
   "outputs": [
    {
     "name": "stdout",
     "output_type": "stream",
     "text": [
      "Jet 0 shape is (73790, 17)\n",
      "Jet no mass 0 shape is (99913, 16)\n",
      "Jet 1 shape is (69982, 22)\n",
      "Jet no mass 1 shape is (77544, 21)\n",
      "Jet 2 shape is (47427, 29)\n",
      "Jet no mass 2 shape is (50379, 28)\n",
      "Jet 3 shape is (20687, 29)\n",
      "Jet no mass 3 shape is (22164, 28)\n"
     ]
    }
   ],
   "source": [
    "# remove features with error values\n",
    "y_jet = []\n",
    "tx_jet = []\n",
    "y_jet_nm = []\n",
    "tx_jet_nm = []\n",
    "# filtering according to undefinition due to jet number\n",
    "idx_jet_undef = [np.array([0,1,2,3,7,10,11,13,14,15,16,17,18,19,20,21,29]),\n",
    "                np.array([0,1,2,3,7,8,9,10,11,13,14,15,16,17,18,19,20,21,23,24,25,29]),\n",
    "                np.array([0,1,2,3,4,5,6,7,8,9,10,11,12,13,14,15,16,17,18,19,20,21,23,24,25,26,27,28,29]),\n",
    "                np.array([0,1,2,3,4,5,6,7,8,9,10,11,12,13,14,15,16,17,18,19,20,21,23,24,25,26,27,28,29])]\n",
    "\n",
    "# Extra filtering according to definition of mass\n",
    "idx_jet_undef_nm = [np.array([1,2,3,7,10,11,13,14,15,16,17,18,19,20,21,29]),\n",
    "                    np.array([1,2,3,7,8,9,10,11,13,14,15,16,17,18,19,20,21,23,24,25,29]),\n",
    "                    np.array([1,2,3,4,5,6,7,8,9,10,11,12,13,14,15,16,17,18,19,20,21,23,24,25,26,27,28,29]),\n",
    "                    np.array([1,2,3,4,5,6,7,8,9,10,11,12,13,14,15,16,17,18,19,20,21,23,24,25,26,27,28,29])]\n",
    "\n",
    "for jet in range(4):\n",
    "    idx_jet = (tX[:,22]==jet) & (tX[:,0] != -999)\n",
    "    y_jet.append(y[idx_jet])\n",
    "    tx_jet.append(tX[idx_jet][:,idx_jet_undef[jet]])\n",
    "    # tx_jet.append(standardize(tX[idx_jet]))\n",
    "\n",
    "for jet in range(4): # NB : no mass also has dupplicates from data that has mass, to have more data available for training.\n",
    "    idx_jet = tX[:,22]==jet\n",
    "    y_jet_nm.append(y[idx_jet])\n",
    "    tx_jet_nm.append(tX[idx_jet][:,idx_jet_undef_nm[jet]])\n",
    "    # tx_jet.append(standardize(tX[idx_jet]))\n",
    "\n",
    "for jet in range(4):\n",
    "    print('Jet {:} shape is {:}'.format(jet,tx_jet[jet].shape))\n",
    "    print('Jet no mass {:} shape is {:}'.format(jet,tx_jet_nm[jet].shape))"
   ]
  },
  {
   "cell_type": "markdown",
   "metadata": {},
   "source": [
    "## Put all data in a single 8 dim array"
   ]
  },
  {
   "cell_type": "code",
   "execution_count": 22,
   "metadata": {},
   "outputs": [
    {
     "name": "stdout",
     "output_type": "stream",
     "text": [
      "Set 0 shape is (73790, 17)\n",
      "Set 1 shape is (69982, 22)\n",
      "Set 2 shape is (47427, 29)\n",
      "Set 3 shape is (20687, 29)\n",
      "Set 4 shape is (99913, 16)\n",
      "Set 5 shape is (77544, 21)\n",
      "Set 6 shape is (50379, 28)\n",
      "Set 7 shape is (22164, 28)\n"
     ]
    }
   ],
   "source": [
    "idx_col_select_split = idx_jet_undef\n",
    "y_split = []\n",
    "tx_split_non_std = []\n",
    "\n",
    "for jet in range(4):\n",
    "    idx_jet = (tX[:,22]==jet) & (tX[:,0] != -999)\n",
    "    y_split.append(y[idx_jet])\n",
    "    tx_split_non_std.append(tX[idx_jet][:,idx_jet_undef[jet]])\n",
    "\n",
    "for jet in range(4): # NB : no mass also has dupplicates from data that has mass, to have more data available for training.\n",
    "    idx_jet = tX[:,22]==jet\n",
    "    y_split.append(y[idx_jet])\n",
    "    tx_split_non_std.append(tX[idx_jet][:,idx_jet_undef_nm[jet]])\n",
    "    \n",
    "for jet in range(4):\n",
    "    idx_col_select_split.append(idx_jet_undef_nm[jet])\n",
    "    \n",
    "# print(y_split)\n",
    "# print(tx_split[0][0])\n",
    "for set_i in range(8):\n",
    "    print(f'Set {set_i} shape is {tx_split_non_std[set_i].shape}')"
   ]
  },
  {
   "cell_type": "markdown",
   "metadata": {},
   "source": [
    "## Standardize the data"
   ]
  },
  {
   "cell_type": "code",
   "execution_count": 49,
   "metadata": {},
   "outputs": [],
   "source": [
    "tx_split = []\n",
    "for tx in tx_split_non_std:\n",
    "    tx_split.append(standardize(tx))"
   ]
  },
  {
   "cell_type": "markdown",
   "metadata": {},
   "source": [
    "## Ridge regression implementation for this set"
   ]
  },
  {
   "cell_type": "markdown",
   "metadata": {},
   "source": [
    "For each of the datasets, we now have to train a model. We will use ridge regression, with different lambdas to find the best one. We use a high polynomial expansion because optimising for lambda should mean that any high degree will be compensated by the ridge regression when optimised. Therefore we use any high degree that guarantees our model is not limited by it's complexity."
   ]
  },
  {
   "cell_type": "code",
   "execution_count": 50,
   "metadata": {},
   "outputs": [],
   "source": [
    "from lab3_plots import plot_train_test\n",
    "from th_helpers import build_poly, split_data, compute_rmse\n",
    "from th_ridge_regression import ridge_regression"
   ]
  },
  {
   "cell_type": "code",
   "execution_count": 51,
   "metadata": {},
   "outputs": [],
   "source": [
    "def ridge_regression_lambdas(x, y, degree, ratio, seed, lambdas):#=np.logspace(-5, 0, 15)):\n",
    "    \"\"\"Performs ridge regression with multiple lambdas.\"\"\"\n",
    "    # split the data, and return train and test data: TODO\n",
    "    train_x, train_y, test_x, test_y = split_data(x, y, ratio, seed)\n",
    "\n",
    "    # form train and test data with polynomial basis function: TODO\n",
    "    train_x_aug = build_poly(train_x, degree)\n",
    "    test_x_aug = build_poly(test_x, degree)\n",
    "\n",
    "    rmse_tr = []\n",
    "    rmse_te = []\n",
    "    \n",
    "    min_w_te = []\n",
    "    min_rmse_te = -1\n",
    "    best_lambda = False\n",
    "    best_correctness = -1\n",
    "    \n",
    "    for ind, lambda_ in enumerate(lambdas):\n",
    "\n",
    "        # ridge regression with a given lambda        \n",
    "        w = ridge_regression(train_y, train_x_aug, lambda_)\n",
    "        \n",
    "        rmse_tr.append(compute_rmse(train_y, train_x_aug, w))\n",
    "        rmse_te.append(compute_rmse(test_y, test_x_aug, w))\n",
    "        \n",
    "        if rmse_te[ind] < min_rmse_te or min_rmse_te == -1:\n",
    "            min_rmse_te = rmse_te[ind]\n",
    "            min_w_te = w\n",
    "            best_lambda = lambda_\n",
    "            \n",
    "        # ***************************************************\n",
    "#         print(\"proportion={p}, degree={d}, lambda={l:.3f}, Training RMSE={tr:.3f}, Testing RMSE={te:.3f}\".format(\n",
    "#                p=ratio, d=degree, l=lambda_, tr=rmse_tr[ind], te=rmse_te[ind]))\n",
    "    \n",
    "    # Compute correctness of best result \n",
    "    y_out_test = np.dot(test_x_aug, min_w_te)\n",
    "    y_out_test[y_out_test>=0] = 1\n",
    "    y_out_test[y_out_test<0] = -1\n",
    "    best_correctness = 100*(y_out_test == test_y).tolist().count(True)/y_out_test.shape[0]\n",
    "            \n",
    "    # Plot the obtained results\n",
    "    print(f\"Degree={degree}, ratio={np.round(ratio, 3)}, seed={seed}, min test RMSE={np.round(min_rmse_te, 4)}, with correctness={np.round(best_correctness, 2)}% ({len(y_out_test)} test points) and lambda={np.round(best_lambda, 7)}\")\n",
    "    plot_train_test(rmse_tr, rmse_te, lambdas, degree)\n",
    "    \n",
    "    return min_rmse_te, min_w_te, best_lambda, best_correctness\n",
    "\n",
    "# THEOTEST code\n",
    "# ridge_regression_demo(x=np.array([0, 1, 2, 3, 4, 5, 6, 7, 8, 9]).T, \n",
    "#                       y=np.array([10, 11, 12, 13, 14, 15, 16, 17, 18, 19]).T,\n",
    "#                       degree = 3,\n",
    "#                       ratio = 0.7,\n",
    "#                       seed = 56)"
   ]
  },
  {
   "cell_type": "code",
   "execution_count": null,
   "metadata": {},
   "outputs": [
    {
     "name": "stdout",
     "output_type": "stream",
     "text": [
      "\n",
      "Analysing set=0, degree=6\n",
      "Degree=6, ratio=0.9, seed=150, min test RMSE=0.7421, with correctness=80.72% (7379 test points) and lambda=0.0\n"
     ]
    },
    {
     "data": {
      "image/png": "[encoded data removed]",
      "text/plain": [
       "<Figure size 432x288 with 1 Axes>"
      ]
     },
     "metadata": {
      "needs_background": "light"
     },
     "output_type": "display_data"
    },
    {
     "name": "stdout",
     "output_type": "stream",
     "text": [
      "\u001b[42m Set=0 correctness improved degree=6, test correctness=80.72%, for lambda=0.0\u001b[0m\n",
      "\n",
      "Analysing set=0, degree=7\n",
      "Degree=7, ratio=0.9, seed=150, min test RMSE=0.7436, with correctness=80.73% (7379 test points) and lambda=0.0107156\n"
     ]
    },
    {
     "data": {
      "image/png": "[encoded data removed]",
      "text/plain": [
       "<Figure size 432x288 with 1 Axes>"
      ]
     },
     "metadata": {
      "needs_background": "light"
     },
     "output_type": "display_data"
    },
    {
     "name": "stdout",
     "output_type": "stream",
     "text": [
      "\u001b[42m Set=0 correctness improved degree=7, test correctness=80.73%, for lambda=0.0107156\u001b[0m\n",
      "\n",
      "Analysing set=0, degree=8\n"
     ]
    }
   ],
   "source": [
    "seed = 150\n",
    "degree = 8\n",
    "degrees = [degree+6 for degree in range(4)]\n",
    "split_ratio = 0.9\n",
    "lambdas = np.concatenate((np.logspace(-10, -6, 10), np.logspace(-6, 2, 2000), np.logspace(2, 10, 20)))\n",
    "best_degrees_hyp = 8*[0]\n",
    "best_lambdas_hyp = 8*[-1]\n",
    "best_correctness_hyp = 8*[-1]\n",
    "best_ws_split = [8*[]] # To check whether predictions from training on split set is better than whole set \n",
    "\n",
    "for set_i in range(8):\n",
    "    for degree in degrees:\n",
    "        print(f\"\\nAnalysing set={set_i}, degree={degree}\")\n",
    "        _, best_w_split, best_lambda, best_correctness = ridge_regression_lambdas(tx_split[set_i], y_split[set_i], degree, split_ratio, seed, lambdas)\n",
    "        \n",
    "        if best_correctness > best_correctness_hyp[set_i]:\n",
    "            best_correctness_hyp[set_i] = best_correctness\n",
    "            best_lambdas_hyp[set_i] = best_lambda\n",
    "            best_degrees_hyp[set_i] = degree\n",
    "            #best_ws_split[set_i]=best_w_split\n",
    "            print(f\"\\x1B[42m Set={set_i} correctness improved degree={degree}, test correctness={np.round(best_correctness, 2)}%, for lambda={np.round(best_lambda, 7)}\\x1B[0m\")\n",
    "\n",
    "print(f\"\\n\\nFinal best correctness={best_correctness_hyp}, \\n degrees={best_degrees_hyp}, \\n  lambdas={best_lambdas_hyp}\")            \n"
   ]
  },
  {
   "cell_type": "markdown",
   "metadata": {},
   "source": [
    "## Investigations into specific sets :"
   ]
  },
  {
   "cell_type": "markdown",
   "metadata": {},
   "source": [
    "### Set 7"
   ]
  },
  {
   "cell_type": "code",
   "execution_count": null,
   "metadata": {},
   "outputs": [],
   "source": [
    "seed = 150\n",
    "degree = 7\n",
    "split_ratio = 0.9\n",
    "lambdas = np.logspace(-5, 10, 1000)\n",
    "\n",
    "set_i = 7\n",
    "\n",
    "print(f\"\\nAnalysing set={set_i}\")\n",
    "min_rmse_te, min_w_te, best_lambda = ridge_regression_lambdas(tx_split[set_i], y_split[set_i], degree, split_ratio, seed, lambdas)"
   ]
  },
  {
   "cell_type": "markdown",
   "metadata": {},
   "source": [
    "## Now actual ridge regression with output file\n",
    "\n",
    "We need to split the test data the same way, but keeping the ids in order to reconstruct it afterwards."
   ]
  },
  {
   "cell_type": "code",
   "execution_count": 9,
   "metadata": {},
   "outputs": [
    {
     "name": "stdout",
     "output_type": "stream",
     "text": [
      "[8, 8, 8, 8, 8, 8, 8, 7] [0.1829205, 1e-07, 1.57e-05, 0.6409244, 0.0903558, 1e-07, 8.13e-05, 10.7778599]\n"
     ]
    }
   ],
   "source": [
    "# parameters chosen from above tests\n",
    "best_degrees = 7*[8] + [7]\n",
    "best_lambdas = [0.1829205, 1e-07, 1.57e-05, 0.6409244, 0.0903558, 1e-07, 8.13e-05, 10.7778599]\n",
    "print(best_degrees, best_lambdas)"
   ]
  },
  {
   "cell_type": "markdown",
   "metadata": {},
   "source": [
    "We will first re-train our 8 models on the whole data, with the parameters found. As we checked for the best model complexity still avoiding overfitting, we will now train on all the train data. Because this is increasing the data on which the model trains, it should in fact reduce overfitting since we keep the same, therefore we do not split the data to check. We will in any case have AIcrowd to indicate if that was a good choice or not.\n",
    "\n",
    "After getting the model for each set, we will go through the original set and predict the outcome. We do this by iterating as we want to keep the right id for each datapoint."
   ]
  },
  {
   "cell_type": "code",
   "execution_count": 10,
   "metadata": {},
   "outputs": [
    {
     "name": "stdout",
     "output_type": "stream",
     "text": [
      "train_x_aug shape=(73790, 137) w_shape=(137,)\n",
      "train_x_aug shape=(69982, 177) w_shape=(177,)\n",
      "train_x_aug shape=(47427, 233) w_shape=(233,)\n",
      "train_x_aug shape=(20687, 233) w_shape=(233,)\n",
      "train_x_aug shape=(99913, 129) w_shape=(129,)\n",
      "train_x_aug shape=(77544, 169) w_shape=(169,)\n",
      "train_x_aug shape=(50379, 225) w_shape=(225,)\n",
      "train_x_aug shape=(22164, 197) w_shape=(197,)\n"
     ]
    }
   ],
   "source": [
    "set_ws = []\n",
    "for set_i in range(8):\n",
    "    train_x_aug = build_poly(tx_split[set_i], best_degrees[set_i])\n",
    "    \n",
    "    set_ws.append( ridge_regression(y_split[set_i], train_x_aug, best_lambdas[set_i]) )\n",
    "    print(f\"train_x_aug shape={train_x_aug.shape} w_shape={set_ws[set_i].shape}\")"
   ]
  },
  {
   "cell_type": "code",
   "execution_count": 11,
   "metadata": {},
   "outputs": [
    {
     "data": {
      "text/plain": [
       "array([[  1.,   0.,   2.,   0.,   4.,   0.,   8.],\n",
       "       [  1.,   3.,   4.,   9.,  16.,  27.,  64.],\n",
       "       [  1.,   5.,   6.,  25.,  36., 125., 216.]])"
      ]
     },
     "execution_count": 11,
     "metadata": {},
     "output_type": "execute_result"
    }
   ],
   "source": [
    "# DEBUG the build poly function\n",
    "import numpy as np\n",
    "from th_helpers import build_poly\n",
    "theo_var_test_x = np.array([[0, 2],\n",
    "              [3, 4],\n",
    "             [5, 6]])\n",
    "build_poly(theo_var_test_x,3)\n",
    "# => should return\n",
    "# array([[  1.,   0.,   2.,   0.,   4.,   0.,   8.],\n",
    "#        [  1.,   3.,   4.,   9.,  16.,  27.,  64.],\n",
    "#        [  1.,   5.,   6.,  25.,  36., 125., 216.]])"
   ]
  },
  {
   "cell_type": "code",
   "execution_count": null,
   "metadata": {},
   "outputs": [],
   "source": []
  },
  {
   "cell_type": "code",
   "execution_count": 12,
   "metadata": {},
   "outputs": [],
   "source": [
    "DATA_TEST_PATH = '../data/test.csv' \n",
    "_, tX_test, ids_test = load_csv_data(DATA_TEST_PATH)"
   ]
  },
  {
   "cell_type": "code",
   "execution_count": 13,
   "metadata": {},
   "outputs": [
    {
     "name": "stdout",
     "output_type": "stream",
     "text": [
      "(568238, 30)\n"
     ]
    }
   ],
   "source": [
    "print(tX_test.shape)"
   ]
  },
  {
   "cell_type": "code",
   "execution_count": 14,
   "metadata": {},
   "outputs": [],
   "source": [
    "def compute_out_y(tX, ws, degrees):\n",
    "    y_out = np.empty(tX.shape[0])\n",
    "\n",
    "    for point_i, datapoint in enumerate(tX):\n",
    "        jet_num = int(datapoint[22])\n",
    "        if datapoint[0] != -999: # Mass is defined\n",
    "            correct_set = datapoint[idx_jet_undef[jet_num]]\n",
    "            correct_set_aug = build_poly(correct_set, degrees[jet_num])\n",
    "            y_out[point_i] = np.dot(correct_set_aug, ws[jet_num])\n",
    "        else : # Mass is undefined\n",
    "            correct_set = datapoint[idx_jet_undef_nm[jet_num]]\n",
    "            correct_set_aug = build_poly(correct_set, degrees[jet_num+4]) # offset of 4 because no mass ws start at index 4\n",
    "            y_out[point_i] = np.dot(correct_set_aug, ws[jet_num+4])         \n",
    "\n",
    "    y_out[y_out>=0] = 1\n",
    "    y_out[y_out<0] = -1  \n",
    "    \n",
    "    return y_out"
   ]
  },
  {
   "cell_type": "code",
   "execution_count": 15,
   "metadata": {},
   "outputs": [
    {
     "name": "stdout",
     "output_type": "stream",
     "text": [
      "Correctness for all train set=82.58%\n"
     ]
    }
   ],
   "source": [
    "y_out_train_check = compute_out_y(tX, set_ws, best_degrees)\n",
    "\n",
    "print(f\"Correctness for all train set={100*(y_out_train_check == y).tolist().count(True)/y_out_train_check.shape[0]}%\")"
   ]
  },
  {
   "cell_type": "markdown",
   "metadata": {},
   "source": [
    "Now apply to test set and generate csv file"
   ]
  },
  {
   "cell_type": "code",
   "execution_count": 16,
   "metadata": {},
   "outputs": [
    {
     "name": "stdout",
     "output_type": "stream",
     "text": [
      "Y test out shape=(568238,) and original tX_test shape=(568238, 30)\n"
     ]
    }
   ],
   "source": [
    "y_out_test = compute_out_y(tX_test, set_ws, best_degrees)\n",
    "print(f\"Y test out shape={y_out_test.shape} and original tX_test shape={tX_test.shape}\")"
   ]
  },
  {
   "cell_type": "code",
   "execution_count": 17,
   "metadata": {},
   "outputs": [
    {
     "name": "stdout",
     "output_type": "stream",
     "text": [
      "Correctly created file with name= submit_ridge_split8sets.csv\n"
     ]
    }
   ],
   "source": [
    "LAST_OUT_NAME = f\"submit_ridge_split8sets.csv\"\n",
    "create_csv_submission(ids_test, y_out_test, LAST_OUT_NAME)\n",
    "print(\"Correctly created file with name=\", LAST_OUT_NAME)"
   ]
  }
 ],
 "metadata": {
  "kernelspec": {
   "display_name": "Python 3",
   "language": "python",
   "name": "python3"
  },
  "language_info": {
   "codemirror_mode": {
    "name": "ipython",
    "version": 3
   },
   "file_extension": ".py",
   "mimetype": "text/x-python",
   "name": "python",
   "nbconvert_exporter": "python",
   "pygments_lexer": "ipython3",
   "version": "3.8.5"
  }
 },
 "nbformat": 4,
 "nbformat_minor": 4
}
